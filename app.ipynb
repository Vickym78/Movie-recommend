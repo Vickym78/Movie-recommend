{
 "cells": [
  {
   "cell_type": "code",
   "execution_count": 1,
   "id": "330b452d",
   "metadata": {},
   "outputs": [
    {
     "name": "stdout",
     "output_type": "stream",
     "text": [
      "Writing movie_recommendation_app.py\n"
     ]
    }
   ],
   "source": [
    "%%writefile movie_recommendation_app.py\n",
    "import streamlit as st\n",
    "import pandas as pd\n",
    "from sklearn.feature_extraction.text import TfidfVectorizer\n",
    "from sklearn.metrics.pairwise import cosine_similarity\n",
    "\n",
    "# Load dataset\n",
    "@st.cache_data\n",
    "def load_data():\n",
    "    return pd.read_csv('tmdb_5000_movies.csv')\n",
    "\n",
    "# Preprocess data\n",
    "def preprocess_data(df):\n",
    "    df = df[['title', 'overview']].dropna()\n",
    "    df['overview'] = df['overview'].fillna('')\n",
    "    return df\n",
    "\n",
    "# Compute the cosine similarity matrix\n",
    "def compute_cosine_similarity(df):\n",
    "    tfidf = TfidfVectorizer(stop_words='english')\n",
    "    tfidf_matrix = tfidf.fit_transform(df['overview'])\n",
    "    cosine_sim = cosine_similarity(tfidf_matrix, tfidf_matrix)\n",
    "    return cosine_sim\n",
    "\n",
    "# Get movie recommendations\n",
    "def get_recommendations(title, df, cosine_sim):\n",
    "    idx = df[df['title'] == title].index[0]\n",
    "    sim_scores = list(enumerate(cosine_sim[idx]))\n",
    "    sim_scores = sorted(sim_scores, key=lambda x: x[1], reverse=True)\n",
    "    sim_scores = sim_scores[1:11]\n",
    "    movie_indices = [i[0] for i in sim_scores]\n",
    "    return df['title'].iloc[movie_indices]\n",
    "\n",
    "# Streamlit app\n",
    "def main():\n",
    "    st.title(\"Movie Recommendation System\")\n",
    "    \n",
    "    # Load and preprocess data\n",
    "    df = load_data()\n",
    "    df = preprocess_data(df)\n",
    "    cosine_sim = compute_cosine_similarity(df)\n",
    "    \n",
    "    # Movie selection\n",
    "    st.header(\"Select a Movie\")\n",
    "    movie_list = df['title'].tolist()\n",
    "    selected_movie = st.selectbox(\"Select a movie to get recommendations:\", movie_list)\n",
    "    \n",
    "    # Show recommendations\n",
    "    if st.button(\"Recommend\"):\n",
    "        recommendations = get_recommendations(selected_movie, df, cosine_sim)\n",
    "        st.write(\"**Recommended Movies:**\")\n",
    "        for i, movie in enumerate(recommendations):\n",
    "            st.write(f\"{i+1}. {movie}\")\n",
    "\n",
    "if __name__ == \"__main__\":\n",
    "    main()\n"
   ]
  },
  {
   "cell_type": "code",
   "execution_count": null,
   "id": "e7ad620d",
   "metadata": {},
   "outputs": [],
   "source": [
    "!streamlit run movie_recommendation_app.py"
   ]
  },
  {
   "cell_type": "code",
   "execution_count": null,
   "id": "794fd0ff",
   "metadata": {},
   "outputs": [],
   "source": []
  }
 ],
 "metadata": {
  "kernelspec": {
   "display_name": "Python 3 (ipykernel)",
   "language": "python",
   "name": "python3"
  },
  "language_info": {
   "codemirror_mode": {
    "name": "ipython",
    "version": 3
   },
   "file_extension": ".py",
   "mimetype": "text/x-python",
   "name": "python",
   "nbconvert_exporter": "python",
   "pygments_lexer": "ipython3",
   "version": "3.11.2"
  }
 },
 "nbformat": 4,
 "nbformat_minor": 5
}
